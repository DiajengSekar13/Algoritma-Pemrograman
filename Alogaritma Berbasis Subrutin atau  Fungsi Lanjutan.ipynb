{
 "cells": [
  {
   "cell_type": "markdown",
   "id": "907ac7a7",
   "metadata": {},
   "source": [
    "# python Subrutin atau fungsi lanjutan"
   ]
  },
  {
   "cell_type": "code",
   "execution_count": 3,
   "id": "4f73636d",
   "metadata": {},
   "outputs": [
    {
     "name": "stdout",
     "output_type": "stream",
     "text": [
      "Hello World!\n"
     ]
    }
   ],
   "source": [
    "#A. CONTOH FUUNCTION SEDERHANA\n",
    "\n",
    "#1. Function tanpa parameter \n",
    "def print_msg():\n",
    "    print(\"Hello World!\")\n",
    "print_msg()\n"
   ]
  },
  {
   "cell_type": "code",
   "execution_count": 6,
   "id": "2e39cdd5",
   "metadata": {},
   "outputs": [
    {
     "name": "stdout",
     "output_type": "stream",
     "text": [
      "Hello World\n",
      "Good Day\n",
      "Welcome\n",
      "Ola\n"
     ]
    }
   ],
   "source": [
    "#2. Function dengan parameter\n",
    "def print_my_msg(msg):\n",
    "    print(msg)\n",
    "print_my_msg('Hello World')\n",
    "print_my_msg(\"Good Day\")\n",
    "print_my_msg(\"Welcome\")\n",
    "print_my_msg('Ola')"
   ]
  },
  {
   "cell_type": "code",
   "execution_count": 7,
   "id": "4aec4036",
   "metadata": {},
   "outputs": [
    {
     "name": "stdout",
     "output_type": "stream",
     "text": [
      "Square of 4: 16\n",
      "Square of 5: 16\n",
      "square of 3, Still less than 15\n"
     ]
    }
   ],
   "source": [
    "#B. FUNCTION DENGAN PENGEMBALIAN\n",
    "\n",
    "#1. Square function \n",
    "def square(n):\n",
    "    return n*n \n",
    "\n",
    "result = square(4)\n",
    "\n",
    "print('Square of 4:', result)\n",
    "print('Square of 5:', result)\n",
    "\n",
    "if square(3)<15:\n",
    "    print(\"square of 3, Still less than 15\")"
   ]
  },
  {
   "cell_type": "code",
   "execution_count": 10,
   "id": "93cad9de",
   "metadata": {},
   "outputs": [
    {
     "name": "stdout",
     "output_type": "stream",
     "text": [
      "3 , 2\n"
     ]
    }
   ],
   "source": [
    "#2. Swap function \n",
    "def swap(a, b):\n",
    "    return b, a\n",
    "a = 2\n",
    "b = 3\n",
    "x, y = swap(a,b)\n",
    "print(x,',',y)"
   ]
  },
  {
   "cell_type": "code",
   "execution_count": 13,
   "id": "47ea3ae1",
   "metadata": {},
   "outputs": [
    {
     "name": "stdout",
     "output_type": "stream",
     "text": [
      "(3, 2)\n"
     ]
    }
   ],
   "source": [
    "#3. Swap function with tuple\n",
    "z= swap(a,b)\n",
    "print(z)"
   ]
  },
  {
   "cell_type": "code",
   "execution_count": 16,
   "id": "9cd67025",
   "metadata": {},
   "outputs": [
    {
     "name": "stdout",
     "output_type": "stream",
     "text": [
      "Please input your age :  Diajeng\n",
      "The input must be an integer\n",
      "Please input your age : 19\n",
      "age is  19\n"
     ]
    }
   ],
   "source": [
    "#C. DOCSTRING\n",
    "def get_integer_input(message):\n",
    "    \"\"\"\n",
    "    \n",
    "    This function will display the message to the user\n",
    "    and request that they input an integer.\n",
    "    \n",
    "    If the user enters something that is not a number \n",
    "    then the input will be rejected\n",
    "    and an error message will be displayed.\n",
    "    \n",
    "    The user will then be asked to try again.\n",
    "    \n",
    "    \"\"\"\n",
    "    \n",
    "    value_as_string = input(message)\n",
    "    while not value_as_string.isnumeric():\n",
    "        print('The input must be an integer')\n",
    "        value_as_string = input(message)\n",
    "        return int(value_as_string)\n",
    "    \n",
    "age = get_integer_input('Please input your age : ')\n",
    "print(\"age is \", age)"
   ]
  },
  {
   "cell_type": "code",
   "execution_count": 17,
   "id": "80e2c207",
   "metadata": {},
   "outputs": [
    {
     "name": "stdout",
     "output_type": "stream",
     "text": [
      "\n",
      "    \n",
      "    This function will display the message to the user\n",
      "    and request that they input an integer.\n",
      "    \n",
      "    If the user enters something that is not a number \n",
      "    then the input will be rejected\n",
      "    and an error message will be displayed.\n",
      "    \n",
      "    The user will then be asked to try again.\n",
      "    \n",
      "    \n"
     ]
    }
   ],
   "source": [
    "print(get_integer_input.__doc__)"
   ]
  },
  {
   "cell_type": "code",
   "execution_count": 18,
   "id": "b03b9d99",
   "metadata": {},
   "outputs": [
    {
     "name": "stdout",
     "output_type": "stream",
     "text": [
      "Welcome Eloise - Hope you like rugby\n"
     ]
    }
   ],
   "source": [
    "#D. FUNCTION PARAMETERS\n",
    "\n",
    "#1. Multiple parameter Function\n",
    "def greeter(name, message):\n",
    "    print('Welcome',name,'-',message)\n",
    "greeter('Eloise', 'Hope you like rugby')"
   ]
  },
  {
   "cell_type": "code",
   "execution_count": 23,
   "id": "6ca0cb8e",
   "metadata": {},
   "outputs": [
    {
     "name": "stdout",
     "output_type": "stream",
     "text": [
      "Welcome Eloise - Live Long and Prosper\n",
      "Welcome Eloise - Hope you like Python\n"
     ]
    }
   ],
   "source": [
    "#2. Default PArameters Values\n",
    "def greeter(name, message = 'Live Long and Prosper' ) :\n",
    "    print('Welcome', name , '-', message)\n",
    "    \n",
    "greeter('Eloise')\n",
    "greeter('Eloise', 'Hope you like Python')"
   ]
  },
  {
   "cell_type": "code",
   "execution_count": 27,
   "id": "60361ee0",
   "metadata": {},
   "outputs": [
    {
     "name": "stdout",
     "output_type": "stream",
     "text": [
      "Welcome Dr Lloyd - we like python\n"
     ]
    }
   ],
   "source": [
    "#3. Named argumen\n",
    "def greeter(name,\n",
    "            title = 'Dr',\n",
    "            prompt = 'Welcome',\n",
    "            message = 'Live Long and Prosper') :\n",
    "     print(prompt, title, name, '-', message)\n",
    "    \n",
    "greeter('Lloyd',message='we like python')"
   ]
  },
  {
   "cell_type": "code",
   "execution_count": 28,
   "id": "2fbbefb0",
   "metadata": {},
   "outputs": [
    {
     "name": "stdout",
     "output_type": "stream",
     "text": [
      "Welcome Jhon\n",
      "Welcome Denise\n",
      "Welcome Phoebe\n",
      "Welcome Adam\n",
      "Welcome Gryff\n",
      "Welcome Jasmine\n"
     ]
    }
   ],
   "source": [
    "#4. Arbitrary Argumens\n",
    "def greeter(*args):\n",
    "    for name in args:\n",
    "        print('Welcome', name)\n",
    "greeter('Jhon','Denise','Phoebe','Adam','Gryff','Jasmine')"
   ]
  },
  {
   "cell_type": "code",
   "execution_count": 46,
   "id": "43b81d4a",
   "metadata": {},
   "outputs": [],
   "source": [
    "#5. Positional and keyword arguments\n",
    "def my_function(*args, **kwargs):\n",
    "    for arg in args:\n",
    "        print('arg:', arg)\n",
    "    for key in kwargs.keys():\n",
    "              print('key:',key, 'has value',kwargs[key])"
   ]
  },
  {
   "cell_type": "code",
   "execution_count": 48,
   "id": "80010679",
   "metadata": {},
   "outputs": [
    {
     "name": "stdout",
     "output_type": "stream",
     "text": [
      "arg: Jhon\n",
      "arg: denise\n",
      "key: daugter has value phoebe\n",
      "key: son has value adam\n",
      "--------------------------------------------------\n",
      "arg: Paul\n",
      "arg: fiona\n",
      "key: son_number_one has value Andrew\n",
      "key: son_number_two has value James\n",
      "key: daugter has value joselyn\n"
     ]
    }
   ],
   "source": [
    "my_function('Jhon', 'denise', daugter = 'phoebe', son = 'adam')\n",
    "print('-'*50)\n",
    "my_function('Paul','fiona',son_number_one = 'Andrew',\n",
    "          son_number_two='James', daugter='joselyn')"
   ]
  },
  {
   "cell_type": "code",
   "execution_count": 50,
   "id": "481c1500",
   "metadata": {},
   "outputs": [
    {
     "name": "stdout",
     "output_type": "stream",
     "text": [
      "arg: a has value 1\n",
      "arg: b has value 2\n",
      "arg: c has value 3\n"
     ]
    }
   ],
   "source": [
    "#tambahan contoh hanya mendukung penyediaan argument kata kunci\n",
    "\n",
    "#1. contoh untuk mengkuadratkan bilangan \n",
    "def named(**kwargs):\n",
    "    for key in kwargs.keys():\n",
    "        print('arg:', key, 'has value', kwargs[key])\n",
    "named(a=1, b=2, c=3)"
   ]
  },
  {
   "cell_type": "code",
   "execution_count": 52,
   "id": "5668962e",
   "metadata": {},
   "outputs": [],
   "source": [
    "double = lambda i : i*i"
   ]
  },
  {
   "cell_type": "code",
   "execution_count": 53,
   "id": "06529ba8",
   "metadata": {},
   "outputs": [
    {
     "data": {
      "text/plain": [
       "<function __main__.<lambda>(i)>"
      ]
     },
     "execution_count": 53,
     "metadata": {},
     "output_type": "execute_result"
    }
   ],
   "source": [
    "double"
   ]
  },
  {
   "cell_type": "code",
   "execution_count": 54,
   "id": "3c9fa695",
   "metadata": {},
   "outputs": [
    {
     "name": "stdout",
     "output_type": "stream",
     "text": [
      "100\n"
     ]
    }
   ],
   "source": [
    "print(double(10))"
   ]
  },
  {
   "cell_type": "code",
   "execution_count": 55,
   "id": "18f5fcfa",
   "metadata": {},
   "outputs": [],
   "source": [
    "#2. menunjukan bahwa fungsi anonim dapat mengambil dari sejumlah argumen\n",
    "func0 = lambda: print('no args')\n",
    "func1 = lambda x : x*x\n",
    "func2 = lambda x, y: x*y\n",
    "func3 = lambda x, y, z: x*y+z"
   ]
  },
  {
   "cell_type": "code",
   "execution_count": 56,
   "id": "25926d6b",
   "metadata": {},
   "outputs": [
    {
     "name": "stdout",
     "output_type": "stream",
     "text": [
      "no args\n",
      "16\n",
      "12\n",
      "10\n"
     ]
    }
   ],
   "source": [
    "func0()\n",
    "print(func1(4))\n",
    "print(func2(3,4))\n",
    "print(func3(2,3,4))"
   ]
  },
  {
   "cell_type": "code",
   "execution_count": null,
   "id": "b4392f36",
   "metadata": {},
   "outputs": [],
   "source": []
  }
 ],
 "metadata": {
  "kernelspec": {
   "display_name": "Python 3 (ipykernel)",
   "language": "python",
   "name": "python3"
  },
  "language_info": {
   "codemirror_mode": {
    "name": "ipython",
    "version": 3
   },
   "file_extension": ".py",
   "mimetype": "text/x-python",
   "name": "python",
   "nbconvert_exporter": "python",
   "pygments_lexer": "ipython3",
   "version": "3.9.13"
  }
 },
 "nbformat": 4,
 "nbformat_minor": 5
}
