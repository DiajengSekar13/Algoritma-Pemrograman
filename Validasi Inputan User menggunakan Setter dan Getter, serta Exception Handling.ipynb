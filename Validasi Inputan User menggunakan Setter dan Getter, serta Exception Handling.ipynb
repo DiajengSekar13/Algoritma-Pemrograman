{
 "cells": [
  {
   "cell_type": "markdown",
   "id": "e6795e1b",
   "metadata": {},
   "source": [
    "# Validasi Inputan User menggunakan Setter dan Getter, serta Exception Handling "
   ]
  },
  {
   "cell_type": "markdown",
   "id": "05a24a40",
   "metadata": {},
   "source": [
    ">Nama :Diajeng Sekar Prameswari\n",
    "NPM  :22083010003 -B"
   ]
  },
  {
   "cell_type": "markdown",
   "id": "f4b541c0",
   "metadata": {},
   "source": [
    "### Setter"
   ]
  },
  {
   "cell_type": "code",
   "execution_count": 31,
   "id": "086fcdbb",
   "metadata": {},
   "outputs": [
    {
     "name": "stdout",
     "output_type": "stream",
     "text": [
      "Nama: Dicky Maulana\n",
      "Umur: 23\n",
      "Jenis Kelamin: Perempuan\n",
      "Email: dicky.maulana@email.com\n"
     ]
    }
   ],
   "source": [
    "class User:\n",
    "    def __init__(self, nama, umur, gender, email):\n",
    "        self.nama = nama\n",
    "        self.umur = umur\n",
    "        self.gender = gender\n",
    "        self.email = email\n",
    "    \n",
    "    def set_nama(self, nama):\n",
    "        if not isinstance(nama, str):\n",
    "            print(\"Nama harus berupa string!\")\n",
    "        else:\n",
    "            self.nama = nama\n",
    "    \n",
    "    def set_umur(self, umur):\n",
    "        if not isinstance(umur, int):\n",
    "            print(\"Umur harus berupa bilangan bulat!\")\n",
    "        elif umur < 0 or umur > 120:\n",
    "            print(\"Umur harus di antara 0 dan 120!\")\n",
    "        else:\n",
    "            self.umur = umur\n",
    "    \n",
    "    def set_gender(self, gender):\n",
    "        if gender not in ['Laki-laki', 'Perempuan']:\n",
    "            print(\"Laki-laki atau Perempuan\")\n",
    "        else:\n",
    "            self.jenis_kelamin = jenis_kelamin\n",
    "    \n",
    "    def set_email(self, email):\n",
    "        if not isinstance(email, str):\n",
    "            print(\"berupa string\")\n",
    "        elif '@' not in email or '.' not in email:\n",
    "            print(\"Format email tidak valid!\")\n",
    "        else:\n",
    "            self.email = email\n",
    "            \n",
    "user = User(\"Diajeng\", 18, \"Perempuan\", \"email.com\")\n",
    "\n",
    "user.set_nama(\"Dicky Maulana\")\n",
    "user.set_umur(23)\n",
    "user.set_gender(\"Laki-laki\")\n",
    "user.set_email(\"dicky.maulana@email.com\")\n",
    "\n",
    "print(\"Nama:\", user.nama)\n",
    "print(\"Umur:\", user.umur)\n",
    "print(\"Jenis Kelamin:\", user.gender)\n",
    "print(\"Email:\", user.email)\n"
   ]
  },
  {
   "cell_type": "markdown",
   "id": "1c08e252",
   "metadata": {},
   "source": [
    "1. Pertama, kita membuat kelas User yang memiliki atribut nama, umur, jenis_kelamin, dan email.\n",
    "2. Kemudian, kita membuat setter untuk setiap atribut yang berfungsi untuk memvalidasi inputan user sebelum mengubah nilai atribut. Setiap setter melakukan validasi tipe data dan format tertentu sesuai dengan atribut yang diatur.\n",
    "3. Setelah itu, kita membuat objek user dan mengubah nilai atribut menggunakan setter yang telah dibuat.\n",
    "4. Terakhir, kita mencetak nilai atribut yang telah diubah menggunakan setter."
   ]
  },
  {
   "cell_type": "markdown",
   "id": "3b5276ae",
   "metadata": {},
   "source": [
    "### Getter"
   ]
  },
  {
   "cell_type": "code",
   "execution_count": 20,
   "id": "1f493139",
   "metadata": {},
   "outputs": [
    {
     "name": "stdout",
     "output_type": "stream",
     "text": [
      "Nama: Dicky Maulana\n",
      "Umur: 23\n",
      "Jenis Kelamin: Laki-laki\n",
      "Email: dcky.maulana@email.com\n"
     ]
    }
   ],
   "source": [
    "class User:\n",
    "    def __init__(self, nama, umur, jenis_kelamin, email):\n",
    "        self.__nama = nama\n",
    "        self.__umur = umur\n",
    "        self.__jenis_kelamin = jenis_kelamin\n",
    "        self.__email = email\n",
    "    \n",
    "    # getter untuk mengambil nilai nama\n",
    "    def get_nama(self):\n",
    "        return self.__nama\n",
    "    \n",
    "    # getter untuk mengambil nilai umur\n",
    "    def get_umur(self):\n",
    "        return self.__umur\n",
    "    \n",
    "    # getter untuk mengambil nilai jenis kelamin\n",
    "    def get_jenis_kelamin(self):\n",
    "        return self.__jenis_kelamin\n",
    "    \n",
    "    # getter untuk mengambil nilai email\n",
    "    def get_email(self):\n",
    "        return self.__email\n",
    "\n",
    "# membuat objek User\n",
    "user = User(\"Dicky Maulana\", 23, \"Laki-laki\", \"dcky.maulana@email.com\")\n",
    "\n",
    "# mengambil nilai atribut menggunakan getter\n",
    "nama = user.get_nama()\n",
    "umur = user.get_umur()\n",
    "jenis_kelamin = user.get_jenis_kelamin()\n",
    "email = user.get_email()\n",
    "\n",
    "# mencetak nilai atribut yang telah diambil menggunakan getter\n",
    "print(\"Nama:\", nama)\n",
    "print(\"Umur:\", umur)\n",
    "print(\"Jenis Kelamin:\", jenis_kelamin)\n",
    "print(\"Email:\", email)\n"
   ]
  },
  {
   "cell_type": "markdown",
   "id": "7a7f8ed8",
   "metadata": {},
   "source": [
    "Getter tidak digunakan untuk memvalidasi inputan user, melainkan untuk mengambil atau memperoleh nilai dari sebuah atribut pada objek. Jadi, tidak mungkin menggunakan getter untuk melakukan validasi inputan. Namun, saya bisa memberikan contoh kode untuk mengambil nilai dari atribut menggunakan getter.\n",
    "\n",
    "Getter digunakan untuk mengambil nilai dari atribut yang bersifat private. Pada kode skrip di atas, atribut nama, umur, jenis_kelamin, dan email memiliki access modifier double underscore (__) sehingga bersifat private. Untuk mengambil nilai dari atribut-atribut tersebut, digunakan method getter yang mengembalikan nilai atribut yang bersangkutan.\n",
    "\n",
    "Contohnya, untuk mengambil nilai nama, digunakan method get_nama(). Sedangkan untuk mengambil nilai umur, digunakan method get_umur(). Demikian seterusnya untuk atribut jenis_kelamin dan email.\n",
    "\n",
    "Kemudian nilai-nilai atribut yang telah diambil menggunakan getter dicetak pada layar menggunakan fungsi print()."
   ]
  },
  {
   "cell_type": "markdown",
   "id": "86d361e6",
   "metadata": {},
   "source": [
    "### Exception Handling"
   ]
  },
  {
   "cell_type": "code",
   "execution_count": 26,
   "id": "d37abc9d",
   "metadata": {},
   "outputs": [
    {
     "name": "stdout",
     "output_type": "stream",
     "text": [
      "Masukkan nama: Dicky Maulana\n",
      "Masukkan umur: 23\n",
      "Masukkan jenis kelamin (Laki-laki/Perempuan): laki-laki\n",
      "Masukkan email: dicky.maulana@email.com\n",
      "Inputan user valid!\n",
      "Nama: Dicky Maulana\n",
      "Umur: 23\n",
      "Jenis kelamin: laki-laki\n",
      "Email: dicky.maulana@email.com\n"
     ]
    }
   ],
   "source": [
    "class User:\n",
    "    def __init__(self, nama, umur, jenis_kelamin, email):\n",
    "        self.nama = self.validasi_nama(nama)\n",
    "        self.umur = self.validasi_umur(umur)\n",
    "        self.jenis_kelamin = self.validasi_jenis_kelamin(jenis_kelamin)\n",
    "        self.email = self.validasi_email(email)\n",
    "    \n",
    "    # validasi nama\n",
    "    def validasi_nama(self, nama):\n",
    "        if not isinstance(nama, str):\n",
    "            raise ValueError(\"Nama harus berupa string\")\n",
    "        return nama\n",
    "    \n",
    "    # validasi umur\n",
    "    def validasi_umur(self, umur):\n",
    "        if not isinstance(umur, int):\n",
    "            raise ValueError(\"Umur harus berupa bilangan bulat\")\n",
    "        if umur < 0 or umur > 120:\n",
    "            raise ValueError(\"Umur harus di antara 0 dan 120\")\n",
    "        return umur\n",
    "    \n",
    "    # validasi jenis kelamin\n",
    "    def validasi_jenis_kelamin(self, jenis_kelamin):\n",
    "        if jenis_kelamin not in ['laki-laki', 'Perempuan']:\n",
    "            raise ValueError(\"Jenis kelamin harus 'Laki-laki' atau 'Perempuan'\")\n",
    "        return jenis_kelamin\n",
    "    \n",
    "    # validasi email\n",
    "    def validasi_email(self, email):\n",
    "        if not isinstance(email, str):\n",
    "            raise ValueError(\"Email harus berupa string\")\n",
    "        if '@' not in email or '.' not in email:\n",
    "            raise ValueError(\"Format email tidak valid\")\n",
    "        return email\n",
    "\n",
    "# mengambil inputan dari user\n",
    "nama = input(\"Masukkan nama: \")\n",
    "umur = int(input(\"Masukkan umur: \"))\n",
    "jenis_kelamin = input(\"Masukkan jenis kelamin (Laki-laki/Perempuan): \")\n",
    "email = input(\"Masukkan email: \")\n",
    "\n",
    "# membuat objek User\n",
    "try:\n",
    "    user = User(nama, umur, jenis_kelamin, email)\n",
    "    print(\"Inputan user valid!\")\n",
    "    print(\"Nama:\", user.nama)\n",
    "    print(\"Umur:\", user.umur)\n",
    "    print(\"Jenis kelamin:\", user.jenis_kelamin)\n",
    "    print(\"Email:\", user.email)\n",
    "except ValueError as e:\n",
    "    print(\"Inputan user tidak valid!\")\n",
    "    print(\"Error:\", str(e))\n"
   ]
  },
  {
   "cell_type": "markdown",
   "id": "53d9f4ff",
   "metadata": {},
   "source": [
    "Pada kode di atas, terdapat class User yang memiliki empat atribut yaitu nama, umur, jenis_kelamin, dan email. Setiap atribut akan melewati fungsi validasi yang terdapat pada method validasi_nama(), validasi_umur(), validasi_jenis_kelamin(), dan validasi_email() masing-masing. Apabila inputan dari user tidak memenuhi syarat, maka akan muncul exception yang sesuai dengan pesan kesalahan yang telah diatur pada fungsi validasi.\n",
    "\n",
    "Setelah itu, program mencetak pesan bahwa inputan user valid dan mencetak nilai-nilai atribut yang telah lolos validasi, atau mencetak pesan bahwa inputan user tidak valid beserta pesan kesalahan yang terkait.\n",
    "\n",
    "Pada kode tersebut, setiap atribut yang diterima oleh kelas User akan melewati validasi menggunakan method-method yang telah ditentukan dalam kelas. Jika terjadi kesalahan dalam validasi, seperti atribut umur yang diinputkan dalam bentuk string atau email yang tidak valid, maka akan muncul pesan error dengan menggunakan raise ValueError.\n",
    "\n",
    "Selain itu, kode tersebut juga menggunakan try-except untuk menangkap nilai error yang dihasilkan oleh raise ValueError. Jika inputan yang diterima valid, maka nilai atribut yang telah diterima akan dicetak menggunakan print. Namun, jika terdapat kesalahan dalam inputan, maka akan dicetak pesan error beserta detail kesalahan yang terjadi."
   ]
  },
  {
   "cell_type": "markdown",
   "id": "c689e20d",
   "metadata": {},
   "source": [
    "## Validasi Inputan User menggunakan Setter dan Getter, serta Exception Handling"
   ]
  },
  {
   "cell_type": "code",
   "execution_count": 3,
   "id": "c06879cf",
   "metadata": {},
   "outputs": [
    {
     "name": "stdout",
     "output_type": "stream",
     "text": [
      "Masukkan nama: Dicky Maulana Aziz \n",
      "Masukkan umur: 23\n",
      "Masukkan gender (Laki-laki/Perempuan): laki laki\n",
      "Masukkan email: dcky.maulana@email.com\n",
      "Inputan user valid!\n",
      "Nama: Dicky Maulana Aziz \n",
      "Umur: 23\n",
      "Jenis kelamin: laki laki\n",
      "Email: dcky.maulana@email.com\n"
     ]
    }
   ],
   "source": [
    "class User:\n",
    "    def __init__(self, nama, umur, gender, email):\n",
    "        self.nama = nama\n",
    "        self.umur = umur\n",
    "        self.gender = gender\n",
    "        self.email = email\n",
    "    \n",
    "    def get_nama(self):\n",
    "        return self.__nama\n",
    "    \n",
    "    def set_nama(self, nama):\n",
    "        if not isinstance(nama, str):\n",
    "            raise ValueError(\"Nama Harus Huruf\")\n",
    "        self.__nama = nama\n",
    "    \n",
    "    def get_umur(self):\n",
    "        return self.__umur\n",
    "    \n",
    "    def set_umur(self, umur):\n",
    "        if not isinstance(umur, int):\n",
    "            raise ValueError(\"Umur Tidak Boleh Bilangan desimal\")\n",
    "        if umur < 0 or umur > 150:\n",
    "            raise ValueError(\"Umur harus di antara 0 dan 150\")\n",
    "        self.__umur = umur\n",
    "    \n",
    "    def get_gender(self):\n",
    "        return self.__gender\n",
    "    \n",
    "    def set_gender(self, gender):\n",
    "        if gender not in ['laki laki', 'perempuan']:\n",
    "            raise ValueError(\"Gender harus 'laki laki' atau 'perempuan'\")\n",
    "        self.__gender = gender\n",
    "    \n",
    "    def get_email(self):\n",
    "        return self.__email\n",
    "    \n",
    "    def set_email(self, email):\n",
    "        if not isinstance(email, str):\n",
    "            raise ValueError(\"Email harus berupa string\")\n",
    "        if '@' not in email or '.' not in email:\n",
    "            raise ValueError(\"Format tidak valid\")\n",
    "        self.__email = email\n",
    "    \n",
    "    nama = property(get_nama, set_nama)\n",
    "    \n",
    "    umur = property(get_umur, set_umur)\n",
    "    \n",
    "    gender = property(get_gender, set_gender)\n",
    "    \n",
    "    email = property(get_email, set_email)\n",
    "\n",
    "\n",
    "nama = input(\"Masukkan nama: \")\n",
    "umur = int(input(\"Masukkan umur: \"))\n",
    "gender = input(\"Masukkan gender (Laki-laki/Perempuan): \")\n",
    "email = input(\"Masukkan email: \")\n",
    "\n",
    "try:\n",
    "    user = User(nama, umur, gender, email)\n",
    "    print(\"Inputan user valid!\")\n",
    "    print(\"Nama:\", user.nama)\n",
    "    print(\"Umur:\", user.umur)\n",
    "    print(\"Jenis kelamin:\", user.gender)\n",
    "    print(\"Email:\", user.email)\n",
    "    \n",
    "except ValueError as e:\n",
    "    print(\"Inputan user tidak valid!\")\n",
    "    print(\"Error:\", str(e))\n"
   ]
  },
  {
   "cell_type": "markdown",
   "id": "d6bc0b2c",
   "metadata": {},
   "source": [
    "1. Fungsi __init__ digunakan untuk menginisialisasi objek User dengan parameter nama, umur, gender, dan email.\n",
    "2.  Class user punya 4 atribut yaitu nama, umur, jenis_kelamin, dan email. Class tersebut memiliki getter dan setter untuk setiap atributnya antara lain getter dan setter yang didefinisikan dengan nama get_nama, set_nama, get_umur, set_umur, get_jenis_kelamin, set_jenis_kelamin, get_email, dan set_email.\n",
    "3. pada setter set_nama, set_umur, set_jenis_kelamin, dan set_email yang berfungsi untuk mengubah nilai dari setiap atribut objek. Setter dilengkapi dengan validasi input agar menerima nilai yang valid. Jika nilai input tidak valid, akan mengeluarkan output pesan error dengan menggunakan raise ValueError().\n",
    "3. Exception handling untuk menangani kesalahan jika ada inputan tidak valid. Jika input valid otomatis akan mencmengeluarkan output nilai atribut nama, umur, jenis kelamin, dan email. Jika input tidak valid, maka program akan mengeluarkan output eror dan menjelaskan jenis eror tersebut yang dihasilkan oleh exception handling.\n",
    "4. Setelah program dijalankan kita akan menginput nilai nama, umur, jenis kelamin, dan email.  Jika nilai input valid, program akan menampilkan informasi nama, umur, jenis kelamin, dan email. Jika nilai input tidak valid, program akan menampilkan pesan error yang disebabkan oleh validasi yang dilakukan pada  setter.\n"
   ]
  },
  {
   "cell_type": "code",
   "execution_count": null,
   "id": "d4dec901",
   "metadata": {},
   "outputs": [],
   "source": []
  }
 ],
 "metadata": {
  "kernelspec": {
   "display_name": "Python 3 (ipykernel)",
   "language": "python",
   "name": "python3"
  },
  "language_info": {
   "codemirror_mode": {
    "name": "ipython",
    "version": 3
   },
   "file_extension": ".py",
   "mimetype": "text/x-python",
   "name": "python",
   "nbconvert_exporter": "python",
   "pygments_lexer": "ipython3",
   "version": "3.9.13"
  }
 },
 "nbformat": 4,
 "nbformat_minor": 5
}
