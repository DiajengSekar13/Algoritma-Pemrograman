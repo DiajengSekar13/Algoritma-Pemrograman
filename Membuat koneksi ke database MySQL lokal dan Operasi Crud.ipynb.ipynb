{
 "cells": [
  {
   "cell_type": "code",
   "execution_count": 166,
   "id": "0e957f7b",
   "metadata": {},
   "outputs": [
    {
     "name": "stdout",
     "output_type": "stream",
     "text": [
      "Requirement already satisfied: pip in c:\\users\\hp\\anaconda3\\lib\\site-packages (23.0.1)\n"
     ]
    }
   ],
   "source": [
    "!python -m pip install --upgrade pip"
   ]
  },
  {
   "cell_type": "code",
   "execution_count": 1,
   "id": "87db503e",
   "metadata": {
    "scrolled": true
   },
   "outputs": [
    {
     "name": "stdout",
     "output_type": "stream",
     "text": [
      "Requirement already satisfied: mysql-connector-python in c:\\users\\hp\\anaconda3\\lib\\site-packages (8.0.32)\n",
      "Requirement already satisfied: protobuf<=3.20.3,>=3.11.0 in c:\\users\\hp\\anaconda3\\lib\\site-packages (from mysql-connector-python) (3.20.3)\n",
      "Note: you may need to restart the kernel to use updated packages.\n"
     ]
    }
   ],
   "source": [
    "pip install mysql-connector-python"
   ]
  },
  {
   "cell_type": "code",
   "execution_count": 168,
   "id": "e084cd74",
   "metadata": {},
   "outputs": [],
   "source": [
    "import mysql.connector"
   ]
  },
  {
   "cell_type": "code",
   "execution_count": 169,
   "id": "d7aea496",
   "metadata": {},
   "outputs": [],
   "source": [
    "class database:\n",
    "    my_db = my_cursor = None\n",
    "    \n",
    "    def __init__(self):\n",
    "        global my_db, my_cursor\n",
    "        my_db = mysql.connector.connect(\n",
    "            host='localhost',\n",
    "            user = 'root',\n",
    "            password = '',\n",
    "            database = 'sekolah_menengah_atas'\n",
    "        )\n",
    "        \n",
    "        my_cursor = my_db.cursor()\n",
    "        \n",
    "    def __del__ (self):\n",
    "        my_db.commit()"
   ]
  },
  {
   "cell_type": "code",
   "execution_count": 298,
   "id": "c0710ea9",
   "metadata": {},
   "outputs": [],
   "source": [
    "class pelajaran(database):\n",
    "    \n",
    "    def tampil_pelajaran(self, mode='DESC'):\n",
    "        sql = \"SELECT * FROM pelajaran ORDER BY id_pelajaran DESC\".format(mode)\n",
    "\n",
    "        try :\n",
    "            my_cursor.execute(sql)\n",
    "            result = my_cursor.fetchall()\n",
    "        except Exception as e :\n",
    "            return e\n",
    "        \n",
    "        return result\n",
    "    \n",
    "    def insert_pelajaran(self, data):\n",
    "        sql = \"INSERT INTO pelajaran (nama_pelajaran, jurusan) VALUES (%s,%s)\"\n",
    "        \n",
    "        try:\n",
    "            my_cursor.execute(sql, data)\n",
    "            my_db.commit()\n",
    "            print(my_cursor.rowcount, \"record inserted.\")\n",
    "            \n",
    "        except Exception as e :\n",
    "            return e\n",
    "        \n",
    "        return my_cursor.lastrowid\n",
    "    \n",
    "    def insert_pelajaran_many(self, data):\n",
    "        sql = \"INSERT INTO pelajaran (nama_pelajaran, jurusan) VALUES (%s,%s)\"\n",
    "        \n",
    "        try :\n",
    "            my_cursor.executemany (sql, data)\n",
    "            my_db.commit()\n",
    "            print(my_cursor.rowcount,'record inserted.')\n",
    "            \n",
    "        except Exception as e :\n",
    "            return e\n",
    "        \n",
    "    def delete_pelajaran(self, id):\n",
    "        sql = 'DELETE pelajaran obat WHERE id_pelajaran + {}'.format(id)\n",
    "    \n",
    "        try:\n",
    "            my_cursor.execute(sql)\n",
    "            my_db.commit()\n",
    "            print( my_cursor.rowcount,'record deleted')\n",
    "            \n",
    "        except Exception as e :\n",
    "            return e\n",
    "        \n",
    "    def update_pelajaran(self, id, data):\n",
    "        \n",
    "        sql = \"UPDATE pelajaran SET nama_pelajaran =%s, jurusan =%s WHERE id_pelajaran = {}\".format(id)\n",
    "        \n",
    "        val = (data[0], data[1])\n",
    "        \n",
    "        try:\n",
    "            my_cursor.execute(sql, val)\n",
    "            my_db.commit()\n",
    "            print(my_cursor.rowcount, 'record updated.')\n",
    "            \n",
    "        except Exception as e:\n",
    "            return e\n",
    "        \n",
    "    def truncate(self):\n",
    "        \n",
    "        sql= 'TRUNCATE TABLE pelajaran'\n",
    "        try :\n",
    "            my_cursor.execute(sql)\n",
    "            my_db.commit()\n",
    "        except Exception as e:\n",
    "            return e \n",
    "        \n",
    "        return True\n"
   ]
  },
  {
   "cell_type": "code",
   "execution_count": 299,
   "id": "1bb58123",
   "metadata": {},
   "outputs": [],
   "source": [
    "db = database()\n",
    "p = pelajaran()"
   ]
  },
  {
   "cell_type": "code",
   "execution_count": 172,
   "id": "26a12d43",
   "metadata": {
    "scrolled": true
   },
   "outputs": [
    {
     "name": "stdout",
     "output_type": "stream",
     "text": [
      "[(46, 'geografi', 'ips'), (45, 'biologi', 'ipa'), (44, 'bahasa jepang', 'bahasa')]\n"
     ]
    }
   ],
   "source": [
    "data = ('matematika', 'ipa')\n",
    "\n",
    "p.insert_pelajaran(data)\n",
    "print(p.tampil_pelajaran())\n"
   ]
  },
  {
   "cell_type": "code",
   "execution_count": 173,
   "id": "4e932f40",
   "metadata": {},
   "outputs": [
    {
     "name": "stdout",
     "output_type": "stream",
     "text": [
      "3 record deleted\n"
     ]
    }
   ],
   "source": [
    "p.delete_pelajaran(2)"
   ]
  },
  {
   "cell_type": "code",
   "execution_count": 174,
   "id": "db8a490a",
   "metadata": {},
   "outputs": [
    {
     "name": "stdout",
     "output_type": "stream",
     "text": [
      "3 record inserted.\n"
     ]
    }
   ],
   "source": [
    "data = [\n",
    "    ('bahasa jepang', 'bahasa'),\n",
    "    ('biologi', 'ipa'),\n",
    "    ('geografi', 'ips'),\n",
    "]\n",
    "p.insert_pelajaran_many(data)"
   ]
  },
  {
   "cell_type": "code",
   "execution_count": 175,
   "id": "47087482",
   "metadata": {},
   "outputs": [
    {
     "name": "stdout",
     "output_type": "stream",
     "text": [
      "[(49, 'geografi', 'ips'), (48, 'biologi', 'ipa'), (47, 'bahasa jepang', 'bahasa')]\n"
     ]
    }
   ],
   "source": [
    "print(p.tampil_pelajaran())"
   ]
  },
  {
   "cell_type": "code",
   "execution_count": 179,
   "id": "c625fe76",
   "metadata": {},
   "outputs": [],
   "source": [
    "class database:\n",
    "    my_db = my_cursor = None\n",
    "    \n",
    "    def __init__(self):\n",
    "        global my_db, my_cursor\n",
    "        my_db = mysql.connector.connect(\n",
    "            host='localhost',\n",
    "            user = 'root',\n",
    "            password = '',\n",
    "            database = 'sekolah_menengah_atas'\n",
    "        )\n",
    "        \n",
    "        my_cursor = my_db.cursor()\n",
    "        \n",
    "    def __del__ (self):\n",
    "        my_db.commit()"
   ]
  },
  {
   "cell_type": "code",
   "execution_count": 212,
   "id": "906a2a9b",
   "metadata": {},
   "outputs": [],
   "source": [
    "class guru(database):\n",
    "    \n",
    "    def tampil_guru(self, mode='DESC'):\n",
    "        sql = \"SELECT * FROM guru ORDER BY id_guru DESC\".format(mode)\n",
    "\n",
    "        try :\n",
    "            my_cursor.execute(sql)\n",
    "            result = my_cursor.fetchall()\n",
    "        except Exception as e :\n",
    "            return e\n",
    "        \n",
    "        return result\n",
    "    \n",
    "    def insert_guru(self, data):\n",
    "        sql = \"INSERT INTO guru (nama_guru, jabatan, nama_pelajaran) VALUES (%s,%s,%s)\"\n",
    "        \n",
    "        try:\n",
    "            my_cursor.execute(sql, data)\n",
    "            my_db.commit()\n",
    "            print(my_cursor.rowcount, \"record inserted.\")\n",
    "            \n",
    "        except Exception as e :\n",
    "            print('eror',e)\n",
    "            return e\n",
    "        \n",
    "        return my_cursor.lastrowid\n",
    "    \n",
    "    def insert_guru_many(self, data):\n",
    "        sql = \"INSERT INTO guru (nama_guru, jabatan, nama_pelajaran) VALUES (%s, %s, %s)\"\n",
    "        \n",
    "        try :\n",
    "            my_cursor.executemany (sql, data)\n",
    "            my_db.commit()\n",
    "            print(my_cursor.rowcount,'record inserted.')\n",
    "            \n",
    "        except Exception as e :\n",
    "            print('eror', e)\n",
    "            return e\n",
    "        \n",
    "    def delete_guru(self, id):\n",
    "        sql = 'DELETE FROM guru WHERE id_guru = {}'.format(id)\n",
    "    \n",
    "        try:\n",
    "            my_cursor.execute(sql)\n",
    "            my_db.commit()\n",
    "            print( my_cursor.rowcount,'record deleted')\n",
    "            \n",
    "        except Exception as e :\n",
    "            return e\n",
    "        \n",
    "    def update_guru(self, id, data):\n",
    "        \n",
    "        sql = \"UPDATE guru SET nama_guru =%s, jabatan =%s, nama_pelajaran= %s WHERE id_guru = {}\".format(id)\n",
    "        \n",
    "        val = (data[0], data[1], data[2], data[3])\n",
    "        \n",
    "        try:\n",
    "            my_cursor.execute(sql, val)\n",
    "            my_db.commit()\n",
    "            print(my_cursor.rowcount, 'record updated.')\n",
    "            \n",
    "        except Exception as e:\n",
    "            return e\n",
    "        \n",
    "    def truncate(self):\n",
    "        \n",
    "        sql= 'TRUNCATE TABLE guru'\n",
    "        try :\n",
    "            my_cursor.execute(sql)\n",
    "            my_db.commit()\n",
    "        except Exception as e:\n",
    "            return e \n",
    "        \n",
    "        return True\n"
   ]
  },
  {
   "cell_type": "code",
   "execution_count": 213,
   "id": "0c9167de",
   "metadata": {},
   "outputs": [],
   "source": [
    "db =database()\n",
    "g = guru()"
   ]
  },
  {
   "cell_type": "code",
   "execution_count": 275,
   "id": "1c7d3499",
   "metadata": {},
   "outputs": [
    {
     "name": "stdout",
     "output_type": "stream",
     "text": [
      "1 record inserted.\n",
      "[(1, 'budi utomo', 'staff', 'bahasa jepang')]\n"
     ]
    }
   ],
   "source": [
    "data = ('budi utomo', 'staff', 'bahasa jepang')\n",
    "\n",
    "g.insert_guru(data)\n",
    "print(g.tampil_guru())"
   ]
  },
  {
   "cell_type": "code",
   "execution_count": 276,
   "id": "5650f0af",
   "metadata": {},
   "outputs": [
    {
     "name": "stdout",
     "output_type": "stream",
     "text": [
      "1 record inserted.\n",
      "[(2, 'suhartoe', 'staff', 'biologi'), (1, 'budi utomo', 'staff', 'bahasa jepang')]\n"
     ]
    }
   ],
   "source": [
    "data = ('suhartoe', 'staff', 'biologi')\n",
    "\n",
    "g.insert_guru(data)\n",
    "print(g.tampil_guru())"
   ]
  },
  {
   "cell_type": "code",
   "execution_count": 277,
   "id": "1e4d80b2",
   "metadata": {},
   "outputs": [
    {
     "name": "stdout",
     "output_type": "stream",
     "text": [
      "1 record deleted\n",
      "[(2, 'suhartoe', 'staff', 'biologi')]\n"
     ]
    }
   ],
   "source": [
    "g.delete_guru(1)\n",
    "print(g.tampil_guru())"
   ]
  },
  {
   "cell_type": "code",
   "execution_count": 278,
   "id": "c05f762d",
   "metadata": {
    "scrolled": true
   },
   "outputs": [
    {
     "name": "stdout",
     "output_type": "stream",
     "text": [
      "[]\n"
     ]
    }
   ],
   "source": [
    "g.truncate()\n",
    "print(g.tampil_guru())"
   ]
  },
  {
   "cell_type": "code",
   "execution_count": 279,
   "id": "fa586904",
   "metadata": {},
   "outputs": [
    {
     "name": "stdout",
     "output_type": "stream",
     "text": [
      "3 record inserted.\n",
      "[(3, 'diinal hqq', 'staff', 'geografi'), (2, 'dicky maulana', 'wakil kepala sekolah', 'bahasa jepang'), (1, 'diajeng prameswari', 'kepala sekolah', 'biologi')]\n"
     ]
    }
   ],
   "source": [
    "data = [\n",
    "    ('diajeng prameswari', 'kepala sekolah', 'biologi'),\n",
    "    ('dicky maulana', 'wakil kepala sekolah', 'bahasa jepang'),\n",
    "    ('diinal hqq', 'staff', 'geografi')\n",
    "]\n",
    "\n",
    "g.insert_guru_many(data)\n",
    "print(g.tampil_guru())\n"
   ]
  },
  {
   "cell_type": "code",
   "execution_count": 251,
   "id": "4b22ec40",
   "metadata": {},
   "outputs": [],
   "source": [
    "class database:\n",
    "    my_db = my_cursor = None\n",
    "    \n",
    "    def __init__(self):\n",
    "        global my_db, my_cursor\n",
    "        my_db = mysql.connector.connect(\n",
    "            host='localhost',\n",
    "            user = 'root',\n",
    "            password = '',\n",
    "            database = 'sekolah_menengah_atas'\n",
    "        )\n",
    "        \n",
    "        my_cursor = my_db.cursor()\n",
    "        \n",
    "    def __del__ (self):\n",
    "        my_db.commit()"
   ]
  },
  {
   "cell_type": "code",
   "execution_count": 258,
   "id": "2925d610",
   "metadata": {},
   "outputs": [],
   "source": [
    "class siswa(database):\n",
    "    \n",
    "    def tampil_siswa(self, mode='DESC'):\n",
    "        sql = \"SELECT * FROM siswa ORDER BY id_siswa DESC\".format(mode)\n",
    "\n",
    "        try :\n",
    "            my_cursor.execute(sql)\n",
    "            result = my_cursor.fetchall()\n",
    "        except Exception as e :\n",
    "            return e\n",
    "        \n",
    "        return result\n",
    "    \n",
    "    def insert_siswa(self, data):\n",
    "        sql = \"INSERT INTO siswa (nama_siswa, jurusan, kelas) VALUES (%s,%s,%s)\"\n",
    "        \n",
    "        try:\n",
    "            my_cursor.execute(sql, data)\n",
    "            my_db.commit()\n",
    "            print(my_cursor.rowcount, \"record inserted.\")\n",
    "            \n",
    "        except Exception as e :\n",
    "            return e\n",
    "        \n",
    "        return my_cursor.lastrowid\n",
    "    \n",
    "    def insert_siswa_many(self, data):\n",
    "        sql = \"INSERT INTO siswa (nama_siswa, jurusan, kelas) VALUES (%s, %s, %s)\"\n",
    "        \n",
    "        try :\n",
    "            my_cursor.executemany (sql, data)\n",
    "            my_db.commit()\n",
    "            print(my_cursor.rowcount,'record inserted.')\n",
    "            \n",
    "        except Exception as e :\n",
    "            return e\n",
    "        \n",
    "    def delete_siswa(self, id):\n",
    "        sql = 'DELETE FROM siswa WHERE id_siswa = {}'.format(id)\n",
    "    \n",
    "        try:\n",
    "            my_cursor.execute(sql)\n",
    "            my_db.commit()\n",
    "            print( my_cursor.rowcount,'record deleted')\n",
    "            \n",
    "        except Exception as e :\n",
    "            return e\n",
    "        \n",
    "    def update_siswa(self, id, data):\n",
    "        \n",
    "        sql = \"UPDATE siswa SET nama_siswa =%s, jurusan =%s, kelas= %s WHERE and id_siswa = {}\".format(id)\n",
    "        \n",
    "        val = (data[0], data[1], data[2])\n",
    "        \n",
    "        try:\n",
    "            my_cursor.execute(sql, val)\n",
    "            my_db.commit()\n",
    "            print(my_cursor.rowcount, 'record updated.')\n",
    "            \n",
    "        except Exception as e:\n",
    "            return e\n",
    "        \n",
    "    def truncate(self):\n",
    "        \n",
    "        sql= 'TRUNCATE TABLE siswa'\n",
    "        try :\n",
    "            my_cursor.execute(sql)\n",
    "            my_db.commit()\n",
    "        except Exception as e:\n",
    "            return e \n",
    "        \n",
    "        return True\n"
   ]
  },
  {
   "cell_type": "code",
   "execution_count": 290,
   "id": "73ca071a",
   "metadata": {},
   "outputs": [],
   "source": [
    "db = database()\n",
    "s = siswa()"
   ]
  },
  {
   "cell_type": "code",
   "execution_count": 291,
   "id": "01803f22",
   "metadata": {},
   "outputs": [
    {
     "name": "stdout",
     "output_type": "stream",
     "text": [
      "1 record inserted.\n",
      "[(6, 'nabil haqque', 'ips', 12), (5, 'nur fadhilah amanda putri', 'bahasa', 11), (4, 'anisa rahmadania', 'ips', 12), (3, 'fika amelia', 'ipa', 12), (2, 'aziz maulana', 'ipa', 10)]\n"
     ]
    }
   ],
   "source": [
    "data = ('nabil haqque', 'ips', '12')\n",
    "\n",
    "s.insert_siswa(data)\n",
    "print(s.tampil_siswa())"
   ]
  },
  {
   "cell_type": "code",
   "execution_count": 292,
   "id": "ea6fe78b",
   "metadata": {},
   "outputs": [
    {
     "name": "stdout",
     "output_type": "stream",
     "text": [
      "1 record inserted.\n",
      "[(7, 'aziz maulana', 'ipa', 10), (6, 'nabil haqque', 'ips', 12), (5, 'nur fadhilah amanda putri', 'bahasa', 11), (4, 'anisa rahmadania', 'ips', 12), (3, 'fika amelia', 'ipa', 12), (2, 'aziz maulana', 'ipa', 10)]\n"
     ]
    }
   ],
   "source": [
    "data = ('aziz maulana', 'ipa', '10')\n",
    "\n",
    "s.insert_siswa(data)\n",
    "print(s.tampil_siswa())"
   ]
  },
  {
   "cell_type": "code",
   "execution_count": 293,
   "id": "a17bd40c",
   "metadata": {},
   "outputs": [
    {
     "name": "stdout",
     "output_type": "stream",
     "text": [
      "0 record deleted\n",
      "[(7, 'aziz maulana', 'ipa', 10), (6, 'nabil haqque', 'ips', 12), (5, 'nur fadhilah amanda putri', 'bahasa', 11), (4, 'anisa rahmadania', 'ips', 12), (3, 'fika amelia', 'ipa', 12), (2, 'aziz maulana', 'ipa', 10)]\n"
     ]
    }
   ],
   "source": [
    "s.delete_siswa(1)\n",
    "print(s.tampil_siswa())"
   ]
  },
  {
   "cell_type": "code",
   "execution_count": 294,
   "id": "222bd0ef",
   "metadata": {},
   "outputs": [
    {
     "name": "stdout",
     "output_type": "stream",
     "text": [
      "[]\n"
     ]
    }
   ],
   "source": [
    "s.truncate()\n",
    "print(s.tampil_siswa())"
   ]
  },
  {
   "cell_type": "code",
   "execution_count": 295,
   "id": "c6bc822f",
   "metadata": {},
   "outputs": [
    {
     "name": "stdout",
     "output_type": "stream",
     "text": [
      "3 record inserted.\n",
      "[(3, 'nur fadhilah amanda putri', 'bahasa', 11), (2, 'anisa rahmadania', 'ips', 12), (1, 'fika amelia', 'ipa', 12)]\n"
     ]
    }
   ],
   "source": [
    "data = [\n",
    "    ('fika amelia', 'ipa', '12'),\n",
    "    ('anisa rahmadania', 'ips', '12'),\n",
    "    ('nur fadhilah amanda putri', 'bahasa', '11')\n",
    "]\n",
    "\n",
    "s.insert_siswa_many(data)\n",
    "print(s.tampil_siswa())\n"
   ]
  }
 ],
 "metadata": {
  "kernelspec": {
   "display_name": "Python 3 (ipykernel)",
   "language": "python",
   "name": "python3"
  },
  "language_info": {
   "codemirror_mode": {
    "name": "ipython",
    "version": 3
   },
   "file_extension": ".py",
   "mimetype": "text/x-python",
   "name": "python",
   "nbconvert_exporter": "python",
   "pygments_lexer": "ipython3",
   "version": "3.9.13"
  }
 },
 "nbformat": 4,
 "nbformat_minor": 5
}
