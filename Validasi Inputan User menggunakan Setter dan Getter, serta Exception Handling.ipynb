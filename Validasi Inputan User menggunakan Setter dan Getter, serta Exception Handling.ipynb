{
 "cells": [
  {
   "cell_type": "markdown",
   "id": "998dda4b",
   "metadata": {},
   "source": [
    "## Validasi Inputan User menggunakan Setter dan Getter, serta Exception Handling"
   ]
  },
  {
   "cell_type": "markdown",
   "id": "75e4805d",
   "metadata": {},
   "source": [
    "> Nama : Diajeng Sekar Prameswari/ 22083010003-B"
   ]
  },
  {
   "cell_type": "code",
   "execution_count": 2,
   "id": "1be44001",
   "metadata": {},
   "outputs": [
    {
     "name": "stdout",
     "output_type": "stream",
     "text": [
      "Masukkan nama: Dicky Maulana Aziz\n",
      "Masukkan umur: 23\n",
      "Masukkan gender (Laki-laki/Perempuan): laki laki\n",
      "Masukkan email: dcky.maulana@email.com\n",
      "Inputan user valid!\n",
      "Nama: Dicky Maulana Aziz\n",
      "Umur: 23\n",
      "Jenis kelamin: laki laki\n",
      "Email: dcky.maulana@email.com\n"
     ]
    }
   ],
   "source": [
    "class User:\n",
    "    def __init__(self, nama, umur, gender, email):\n",
    "        self.nama = nama\n",
    "        self.umur = umur\n",
    "        self.gender = gender\n",
    "        self.email = email\n",
    "    \n",
    "    def get_nama(self):\n",
    "        return self.__nama\n",
    "    \n",
    "    def set_nama(self, nama):\n",
    "        if not isinstance(nama, str):\n",
    "            raise ValueError(\"Nama Harus Huruf\")\n",
    "        self.__nama = nama\n",
    "    \n",
    "    def get_umur(self):\n",
    "        return self.__umur\n",
    "    \n",
    "    def set_umur(self, umur):\n",
    "        if not isinstance(umur, int):\n",
    "            raise ValueError(\"Umur Tidak Boleh Bilangan desimal\")\n",
    "        if umur < 0 or umur > 150:\n",
    "            raise ValueError(\"Umur harus di antara 0 dan 150\")\n",
    "        self.__umur = umur\n",
    "    \n",
    "    def get_gender(self):\n",
    "        return self.__gender\n",
    "    \n",
    "    def set_gender(self, gender):\n",
    "        if gender not in ['laki laki', 'perempuan']:\n",
    "            raise ValueError(\"Gender harus 'laki laki' atau 'perempuan'\")\n",
    "        self.__gender = gender\n",
    "    \n",
    "    def get_email(self):\n",
    "        return self.__email\n",
    "    \n",
    "    def set_email(self, email):\n",
    "        if not isinstance(email, str):\n",
    "            raise ValueError(\"Email harus berupa string\")\n",
    "        if '@' not in email or '.' not in email:\n",
    "            raise ValueError(\"Format tidak valid\")\n",
    "        self.__email = email\n",
    "    \n",
    "    nama = property(get_nama, set_nama)\n",
    "    \n",
    "    umur = property(get_umur, set_umur)\n",
    "    \n",
    "    gender = property(get_gender, set_gender)\n",
    "    \n",
    "    email = property(get_email, set_email)\n",
    "\n",
    "\n",
    "nama = input(\"Masukkan nama: \")\n",
    "umur = int(input(\"Masukkan umur: \"))\n",
    "gender = input(\"Masukkan gender (Laki-laki/Perempuan): \")\n",
    "email = input(\"Masukkan email: \")\n",
    "\n",
    "try:\n",
    "    user = User(nama, umur, gender, email)\n",
    "    print(\"Inputan user valid!\")\n",
    "    print(\"Nama:\", user.nama)\n",
    "    print(\"Umur:\", user.umur)\n",
    "    print(\"Jenis kelamin:\", user.gender)\n",
    "    print(\"Email:\", user.email)\n",
    "    \n",
    "except ValueError as e:\n",
    "    print(\"Inputan user tidak valid!\")\n",
    "    print(\"Error:\", str(e))\n"
   ]
  },
  {
   "cell_type": "markdown",
   "id": "119b5d05",
   "metadata": {},
   "source": [
    "1. Fungsi __init__ digunakan untuk menginisialisasi objek User dengan parameter nama, umur, gender, dan email.\n",
    "2.  Class user punya 4 atribut yaitu nama, umur, jenis_kelamin, dan email. Class tersebut memiliki getter dan setter untuk setiap atributnya antara lain getter dan setter yang didefinisikan dengan nama get_nama, set_nama, get_umur, set_umur, get_jenis_kelamin, set_jenis_kelamin, get_email, dan set_email.\n",
    "3. pada setter set_nama, set_umur, set_jenis_kelamin, dan set_email yang berfungsi untuk mengubah nilai dari setiap atribut objek. Setter dilengkapi dengan validasi input agar menerima nilai yang valid. Jika nilai input tidak valid, akan mengeluarkan output pesan error dengan menggunakan raise ValueError().\n",
    "3. Exception handling untuk menangani kesalahan jika ada inputan tidak valid. Jika input valid otomatis akan mencmengeluarkan output nilai atribut nama, umur, jenis kelamin, dan email. Jika input tidak valid, maka program akan mengeluarkan output eror dan menjelaskan jenis eror tersebut yang dihasilkan oleh exception handling.\n",
    "4. Setelah program dijalankan kita akan menginput nilai nama, umur, jenis kelamin, dan email.  Jika nilai input valid, program akan menampilkan informasi nama, umur, jenis kelamin, dan email. Jika nilai input tidak valid, program akan menampilkan pesan error yang disebabkan oleh validasi yang dilakukan pada  setter.\n"
   ]
  },
  {
   "cell_type": "code",
   "execution_count": null,
   "id": "4e20e3ee",
   "metadata": {},
   "outputs": [],
   "source": []
  }
 ],
 "metadata": {
  "kernelspec": {
   "display_name": "Python 3 (ipykernel)",
   "language": "python",
   "name": "python3"
  },
  "language_info": {
   "codemirror_mode": {
    "name": "ipython",
    "version": 3
   },
   "file_extension": ".py",
   "mimetype": "text/x-python",
   "name": "python",
   "nbconvert_exporter": "python",
   "pygments_lexer": "ipython3",
   "version": "3.9.13"
  }
 },
 "nbformat": 4,
 "nbformat_minor": 5
}
