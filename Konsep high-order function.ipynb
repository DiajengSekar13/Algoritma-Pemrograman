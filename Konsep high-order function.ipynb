{
 "cells": [
  {
   "cell_type": "markdown",
   "id": "5c17eb9a",
   "metadata": {},
   "source": [
    "### Kode program Konsep high-order function menjadi Output Huruf besar "
   ]
  },
  {
   "cell_type": "code",
   "execution_count": 32,
   "id": "79226bba",
   "metadata": {
    "scrolled": true
   },
   "outputs": [
    {
     "data": {
      "text/plain": [
       "'DIAJENG SEKAR PRAMESWARI'"
      ]
     },
     "execution_count": 32,
     "metadata": {},
     "output_type": "execute_result"
    }
   ],
   "source": [
    "def upper(string):\n",
    "    nama = ''\n",
    "    for huruf in string :\n",
    "        if 97 <= ord(huruf) <= 123 :\n",
    "            nama += chr(ord(huruf)-32)\n",
    "            \n",
    "        else :\n",
    "            nama += huruf\n",
    "    return nama\n",
    "\n",
    "upper('DiajEnG SekAr PramESWarI')"
   ]
  },
  {
   "cell_type": "code",
   "execution_count": 31,
   "id": "54b17065",
   "metadata": {},
   "outputs": [
    {
     "data": {
      "text/plain": [
       "'DIAJENG SEKAR PRAMESWARI'"
      ]
     },
     "execution_count": 31,
     "metadata": {},
     "output_type": "execute_result"
    }
   ],
   "source": [
    "upper('diajeng sekar prameswari')"
   ]
  },
  {
   "cell_type": "markdown",
   "id": "1b3c398a",
   "metadata": {},
   "source": [
    "Fungsi diatas menggunakan loop for, pada tiap loop, nama akan di cek apakah termasuk range huruf kecil a sampai z. untuk mengubah fungsi yang akan mengubah huruf tersebut menjadi huruf kapital menggunakan chr() dan ord() dan kemudian menambahkan huruf tersebut ke dalam variabel nama. dan begitupun sebaliknya.\n",
    "\n",
    "dan outputnya setelah diubah ke uppercase, huruf-huruf menjadi huruf besar semua."
   ]
  },
  {
   "cell_type": "markdown",
   "id": "dbc70cb6",
   "metadata": {},
   "source": [
    "### Kode program Konsep high-order function menjadi Output Huruf kecil"
   ]
  },
  {
   "cell_type": "code",
   "execution_count": 33,
   "id": "0059467a",
   "metadata": {},
   "outputs": [
    {
     "data": {
      "text/plain": [
       "'diajeng sekar prameswari'"
      ]
     },
     "execution_count": 33,
     "metadata": {},
     "output_type": "execute_result"
    }
   ],
   "source": [
    "def lower(string):\n",
    "    nama = ''\n",
    "    for huruf in string:\n",
    "        if 65 <= ord(huruf) <= 91 :\n",
    "            nama += chr(ord(huruf)+32)\n",
    "            \n",
    "        else: \n",
    "            nama += huruf\n",
    "    \n",
    "    return nama\n",
    "\n",
    "lower ('DIAJENG SEKAR PRAMESWARI')"
   ]
  },
  {
   "cell_type": "code",
   "execution_count": 34,
   "id": "5fafc095",
   "metadata": {
    "scrolled": true
   },
   "outputs": [
    {
     "data": {
      "text/plain": [
       "'diajeng sekar prameswari'"
      ]
     },
     "execution_count": 34,
     "metadata": {},
     "output_type": "execute_result"
    }
   ],
   "source": [
    "lower('DiajEnG SekAr PramESWarI')"
   ]
  },
  {
   "cell_type": "markdown",
   "id": "c394da9c",
   "metadata": {},
   "source": [
    "String diatas menggunakan loop for dan saat huruf uppercase maka berdasarkan kode ASCII (antara 65 - 91), maka fungsi akan menambahkan karakter yang sesuai dengan huruf lowercase di string nama dan begitupun sebaliknya.\n",
    "\n",
    "dan outputnya setelah diubah ke lowercase, huruf-huruf menjadi huruf kecil semua."
   ]
  },
  {
   "cell_type": "markdown",
   "id": "0e60bae6",
   "metadata": {},
   "source": [
    "### Kode program Konsep high-order function menjadi output Propercase"
   ]
  },
  {
   "cell_type": "code",
   "execution_count": 35,
   "id": "f9f8c486",
   "metadata": {},
   "outputs": [
    {
     "data": {
      "text/plain": [
       "'Diajeng Sekar Prameswari'"
      ]
     },
     "execution_count": 35,
     "metadata": {},
     "output_type": "execute_result"
    }
   ],
   "source": [
    "def propercase(string):\n",
    "    words = string.split()\n",
    "    hasil = ''\n",
    "    for word in words:\n",
    "        hasil += word[0].upper() + word[1:].lower() + ' '\n",
    "    return hasil[:-1]\n",
    "\n",
    "def highorder(func, string):\n",
    "    return func(string)\n",
    "\n",
    "highorder(propercase, 'DIAJENG SEKAR PRAMESWARI')"
   ]
  },
  {
   "cell_type": "code",
   "execution_count": 36,
   "id": "49a49c08",
   "metadata": {},
   "outputs": [
    {
     "data": {
      "text/plain": [
       "'Diajeng Sekar Prameswari'"
      ]
     },
     "execution_count": 36,
     "metadata": {},
     "output_type": "execute_result"
    }
   ],
   "source": [
    "highorder(propercase, 'DiajEnG SekAr PramESWarI')"
   ]
  },
  {
   "cell_type": "markdown",
   "id": "b4d077b4",
   "metadata": {},
   "source": [
    "Fungsi propercase menerima sebuah string, dan memisahkan tiap kata menggunakan method split() yaitu huruf pertama diubah jadi huruf kapital, dan huruf lainnya jadi huruf kecil.\n",
    "Fungsi highorderdibuat untuk menerima dua argumen kemudian akan memanggil fungsiyang diberi pada argumen pertama dan memberikan string pada argumen kedua"
   ]
  }
 ],
 "metadata": {
  "kernelspec": {
   "display_name": "Python 3 (ipykernel)",
   "language": "python",
   "name": "python3"
  },
  "language_info": {
   "codemirror_mode": {
    "name": "ipython",
    "version": 3
   },
   "file_extension": ".py",
   "mimetype": "text/x-python",
   "name": "python",
   "nbconvert_exporter": "python",
   "pygments_lexer": "ipython3",
   "version": "3.9.13"
  }
 },
 "nbformat": 4,
 "nbformat_minor": 5
}
