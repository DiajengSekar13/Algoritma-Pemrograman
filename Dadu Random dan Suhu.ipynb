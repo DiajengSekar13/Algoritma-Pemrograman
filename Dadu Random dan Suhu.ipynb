{
 "cells": [
  {
   "cell_type": "code",
   "execution_count": 30,
   "id": "214a4f84",
   "metadata": {},
   "outputs": [
    {
     "name": "stdout",
     "output_type": "stream",
     "text": [
      "masukkkan suhu dalam celcius = 32\n",
      "\n",
      "hasil ke reamur:  25.6 R\n",
      "hasil ke kelvin:  305.15 K\n",
      "hasil ke fahrenheit:  89.6 F\n"
     ]
    }
   ],
   "source": [
    "suhu = int(input('masukkkan suhu dalam celcius = '))\n",
    "\n",
    "def reamur(suhu):\n",
    "    reamur = suhu*0.8\n",
    "    return reamur\n",
    "def kelvin(suhu):\n",
    "    kelvin = suhu + 273.15 \n",
    "    return kelvin\n",
    "def fahrenheit(suhu):\n",
    "    fahrenheit = (suhu * 1.8) + 32\n",
    "    return fahrenheit\n",
    "def konversi(suhu):\n",
    "    print('hasil ke reamur: ', reamur(suhu),'R')\n",
    "    print('hasil ke kelvin: ', kelvin(suhu),'K')\n",
    "    print('hasil ke fahrenheit: ', fahrenheit(suhu),'F')\n",
    "    \n",
    "print()\n",
    "konversi(suhu)"
   ]
  },
  {
   "cell_type": "code",
   "execution_count": 6,
   "id": "81548c0a",
   "metadata": {},
   "outputs": [
    {
     "name": "stdout",
     "output_type": "stream",
     "text": [
      "Masukan Angka a =13\n",
      "Masukan Angka b =4\n",
      "Akar Dari 13 =  3.605551275463989\n",
      "Pangkat Dari 13 = 442413.3920089205\n",
      "Log 13 = 2.5649493574615367\n",
      "Log10 13 = 1.1139433523068367\n",
      "Cos 13 = 0.9074467814501962\n",
      "Pow 13 = 28561.0\n",
      "Degree 13 = 744.8451336700703\n",
      "Radian 13 = 0.22689280275926285\n",
      "Febs 13 = 13.0\n"
     ]
    }
   ],
   "source": [
    "from math import sqrt\n",
    "from math import exp\n",
    "from math import log\n",
    "from math import log10\n",
    "from math import cos\n",
    "from math import pow\n",
    "from math import degrees\n",
    "from math import radians\n",
    "from math import fabs\n",
    "\n",
    "a = int(input(\"Masukan Angka a =\"))\n",
    "b = int(input(\"Masukan Angka b =\"))\n",
    "\n",
    "root = sqrt(a)\n",
    "pangkat2 = exp(a)\n",
    "log = log(a)\n",
    "log10 = log10(a)\n",
    "cos = cos(a)\n",
    "power = pow(a,b)\n",
    "degree = degrees(a)\n",
    "radian = radians(a)\n",
    "absolute = fabs(a)\n",
    "\n",
    "print(\"Akar Dari\", a, \"= \", root)\n",
    "print(\"Pangkat Dari\", a, \"=\", pangkat2)\n",
    "print(\"Log\", a, \"=\", log)\n",
    "print(\"Log10\", a, \"=\", log10)\n",
    "print(\"Cos\", a, \"=\", cos)\n",
    "print(\"Pow\", a, \"=\", power)\n",
    "print(\"Degree\", a, \"=\", degree)\n",
    "print(\"Radian\", a, \"=\", radian)\n",
    "print(\"Febs\", a, \"=\", absolute)"
   ]
  },
  {
   "cell_type": "code",
   "execution_count": 5,
   "id": "932e65ce",
   "metadata": {},
   "outputs": [
    {
     "data": {
      "text/plain": [
       "13.0"
      ]
     },
     "execution_count": 5,
     "metadata": {},
     "output_type": "execute_result"
    }
   ],
   "source": [
    "fabs(-13)"
   ]
  },
  {
   "cell_type": "code",
   "execution_count": 31,
   "id": "e0a41535",
   "metadata": {
    "scrolled": true
   },
   "outputs": [
    {
     "name": "stdout",
     "output_type": "stream",
     "text": [
      "+-------+\n",
      "| *     |\n",
      "|       |\n",
      "|     * |\n",
      "+-------+\n",
      "+-------+\n",
      "| *     |\n",
      "|       |\n",
      "|     * |\n",
      "+-------+\n",
      "Angka dadu kembar\n",
      "Selamat anda mendapat reward 100\n"
     ]
    }
   ],
   "source": [
    "from random import randrange\n",
    "dadu = []\n",
    "for i in range (0,2):\n",
    "    dadu1 = randrange(1,6)\n",
    "    dadu.append(dadu1)\n",
    "    if dadu1 == 1:\n",
    "        print(\"+-------+\")\n",
    "        print(\"|       |\")\n",
    "        print(\"|   *   |\")\n",
    "        print(\"|       |\")\n",
    "        print(\"+-------+\")\n",
    "    elif dadu1 == 2:\n",
    "        print(\"+-------+\")\n",
    "        print(\"| *     |\")\n",
    "        print(\"|       |\")\n",
    "        print(\"|     * |\")\n",
    "        print(\"+-------+\")\n",
    "    elif dadu1 == 3:\n",
    "        print(\"+-------+\")\n",
    "        print(\"| *     |\")\n",
    "        print(\"|   *   |\")\n",
    "        print(\"|     * |\")\n",
    "        print(\"+-------+\")\n",
    "    elif dadu1 == 4:\n",
    "        print(\"+-------+\")    \n",
    "        print(\"| *   * |\")\n",
    "        print(\"|       |\")\n",
    "        print(\"| *   * |\")\n",
    "        print(\"+-------+\")\n",
    "    elif dadu1 == 5:\n",
    "        print(\"+-------+\")\n",
    "        print(\"| *   * |\")\n",
    "        print(\"|   *   |\")\n",
    "        print(\"| *   * |\")\n",
    "        print(\"+-------+\")\n",
    "    else:\n",
    "        print(\"+-------+\")\n",
    "        print(\"| *   * |\")\n",
    "        print(\"| *   * |\")\n",
    "        print(\"| *   * |\")\n",
    "        print(\"+-------+\")\n",
    "            \n",
    "            \n",
    "if dadu[0] == dadu[1]:\n",
    "    print(\"Angka dadu kembar\") \n",
    "    print('Selamat anda mendapat reward 100')\n",
    "        \n",
    "else:\n",
    "    if dadu[0] != dadu[1]:\n",
    "        print('Maaf Angka dadu berbeda')        "
   ]
  },
  {
   "cell_type": "code",
   "execution_count": 5,
   "id": "f71be97b",
   "metadata": {},
   "outputs": [
    {
     "name": "stdout",
     "output_type": "stream",
     "text": [
      "0! =  1\n",
      "1! =  1\n",
      "2! =  2\n",
      "3! =  6\n",
      "4! =  24\n",
      "5! =  120\n"
     ]
    }
   ],
   "source": [
    "#contoh 1 Bilangan Faktorial Non-rekursif\n",
    "def factorial(n):\n",
    "    product = 1 \n",
    "    while n > 0:\n",
    "        product = product * n\n",
    "        n = n - 1\n",
    "    return product \n",
    "    \n",
    "def main():\n",
    "    print('0! = ', factorial(0))\n",
    "    print('1! = ', factorial(1))\n",
    "    print('2! = ', factorial(2))\n",
    "    print('3! = ', factorial(3))\n",
    "    print('4! = ', factorial(4))\n",
    "    print('5! = ', factorial(5))\n",
    "    \n",
    "main()"
   ]
  },
  {
   "cell_type": "code",
   "execution_count": 7,
   "id": "d0b9764c",
   "metadata": {},
   "outputs": [
    {
     "name": "stdout",
     "output_type": "stream",
     "text": [
      "0! =  1\n",
      "1! =  1\n",
      "2! =  2\n",
      "3! =  6\n",
      "4! =  24\n",
      "5! =  120\n"
     ]
    }
   ],
   "source": [
    "#Contoh 1 Bilangan Rekursif \n",
    "def factorial(n):\n",
    "    if n == 0 :\n",
    "        return 1 \n",
    "    else :\n",
    "        return n * factorial(n - 1)\n",
    "    \n",
    "def main():\n",
    "    print('0! = ', factorial(0))\n",
    "    print('1! = ', factorial(1))\n",
    "    print('2! = ', factorial(2))\n",
    "    print('3! = ', factorial(3))\n",
    "    print('4! = ', factorial(4))\n",
    "    print('5! = ', factorial(5))\n",
    "    \n",
    "main()"
   ]
  },
  {
   "cell_type": "code",
   "execution_count": 6,
   "id": "53d8f726",
   "metadata": {},
   "outputs": [
    {
     "name": "stdout",
     "output_type": "stream",
     "text": [
      "masukkan x = 3\n",
      "masukkan y = 2\n",
      "3 dipangkatkan 2  =  9\n"
     ]
    }
   ],
   "source": [
    "#Contoh 2 Bilangan Berpangkat\n",
    "def pangkat (x,y):\n",
    "    if y == 0 :\n",
    "        return 1 \n",
    "    else :\n",
    "        return x * pangkat(x, y -1)\n",
    "    \n",
    "x = int(input(\"masukkan x = \"))\n",
    "y = int(input(\"masukkan y = \"))\n",
    "\n",
    "print(x, \"dipangkatkan\", y, \" = \", pangkat(x,y))"
   ]
  },
  {
   "cell_type": "code",
   "execution_count": 35,
   "id": "670eb8f9",
   "metadata": {},
   "outputs": [
    {
     "name": "stdout",
     "output_type": "stream",
     "text": [
      "masukkan banyaknya suku = 6\n",
      "deret fibonacci :\n",
      "0\n",
      "1\n",
      "1\n",
      "2\n",
      "3\n",
      "5\n"
     ]
    }
   ],
   "source": [
    "#Deret Vibonacci\n",
    "def fibonacci(n):\n",
    "    if n <= 1:\n",
    "        return n\n",
    "    else :\n",
    "        return (fibonacci(n-2) + fibonacci(n-1))\n",
    "    \n",
    "n_number = int(input('masukkan banyaknya suku = '))\n",
    "\n",
    "if n_number <= 0:\n",
    "    print(\"input tidak valid! Silahkan masukkan bilangan positif\")\n",
    "else :\n",
    "    print(\"deret fibonacci :\")\n",
    "    for n in range(n_number):\n",
    "        print(fibonacci(n))\n",
    "    "
   ]
  },
  {
   "cell_type": "code",
   "execution_count": 34,
   "id": "7edaf4bd",
   "metadata": {},
   "outputs": [
    {
     "name": "stdout",
     "output_type": "stream",
     "text": [
      "kalimat awal = sains data\n",
      "kalimat setelah dibalik = atad snias\n"
     ]
    }
   ],
   "source": [
    "#Contoh 4 Membalikkan String\n",
    "def balik(a):\n",
    "    if len(a) == 0:\n",
    "        return a\n",
    "    else :\n",
    "        return balik(a[1:]) + a[0]\n",
    "        \n",
    "kalimat= str(input('kalimat awal = '))\n",
    "\n",
    "print(\"kalimat setelah dibalik =\", balik(kalimat))"
   ]
  },
  {
   "cell_type": "code",
   "execution_count": 22,
   "id": "a93b8eb5",
   "metadata": {},
   "outputs": [
    {
     "name": "stdout",
     "output_type": "stream",
     "text": [
      "masukkan angka = 30\n",
      "masukkan basis = 2\n",
      "11110\n"
     ]
    }
   ],
   "source": [
    "#Contoh 5 KOnversi Bilangan Desimal ke Bilangan Biner, Oktal, Hexadesimal\n",
    "def konversi(n, base):\n",
    "    convertstring = \"0123456789ABCDEF\"\n",
    "    if n < base:\n",
    "        return convertstring[n]\n",
    "    else :\n",
    "        return konversi(n//base,base) + convertstring[n%base]\n",
    "\n",
    "angka = int(input('masukkan angka = '))\n",
    "basis = int(input('masukkan basis = ')) \n",
    "print(konversi(angka,basis))\n",
    "        \n",
    "    "
   ]
  },
  {
   "cell_type": "code",
   "execution_count": 25,
   "id": "559879d4",
   "metadata": {},
   "outputs": [
    {
     "name": "stdout",
     "output_type": "stream",
     "text": [
      "masukkan bil ke-n :4\n",
      "total Tritangular : 10\n"
     ]
    }
   ],
   "source": [
    "#Contoh 6 Triangular Numbers\n",
    "def tritangular(n):\n",
    "    if n == 1 :\n",
    "        return(n)\n",
    "    else :\n",
    "        return(n+tritangular(n-1))\n",
    "\n",
    "angka = int(input('masukkan bil ke-n :'))\n",
    "\n",
    "print(\"total Tritangular :\", tritangular(angka))"
   ]
  },
  {
   "cell_type": "code",
   "execution_count": null,
   "id": "aff9a269",
   "metadata": {},
   "outputs": [],
   "source": []
  }
 ],
 "metadata": {
  "kernelspec": {
   "display_name": "Python 3 (ipykernel)",
   "language": "python",
   "name": "python3"
  },
  "language_info": {
   "codemirror_mode": {
    "name": "ipython",
    "version": 3
   },
   "file_extension": ".py",
   "mimetype": "text/x-python",
   "name": "python",
   "nbconvert_exporter": "python",
   "pygments_lexer": "ipython3",
   "version": "3.9.13"
  }
 },
 "nbformat": 4,
 "nbformat_minor": 5
}
