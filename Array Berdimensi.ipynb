{
 "cells": [
  {
   "cell_type": "code",
   "execution_count": 12,
   "id": "884584a4",
   "metadata": {
    "scrolled": true
   },
   "outputs": [
    {
     "name": "stdout",
     "output_type": "stream",
     "text": [
      "nilai maximumnya [9]\n",
      "nilai minimumnya [-11]\n"
     ]
    }
   ],
   "source": [
    "#mencari max dan min\n",
    "bil = [-5,-4,3,7,8,6,-2,1,9,-11,-10]\n",
    "max = []\n",
    "min = []\n",
    "\n",
    "for x in bil :\n",
    "    if x>0:\n",
    "        max=[x] \n",
    "    else :\n",
    "        min=[x-1]\n",
    "        \n",
    "print('nilai maximumnya', max)\n",
    "print('nilai minimumnya', min)"
   ]
  },
  {
   "cell_type": "code",
   "execution_count": 9,
   "id": "249e85d9",
   "metadata": {},
   "outputs": [
    {
     "name": "stdout",
     "output_type": "stream",
     "text": [
      "secara ascending :  [-11, -10, -5, -4, -2, 1, 3, 6, 7, 8, 9]\n",
      "secara descending :  [9, 8, 7, 6, 3, 1, -2, -4, -5, -10, -11]\n"
     ]
    }
   ],
   "source": [
    "#Ascending & Descending\n",
    "def InsertionShort(bil):\n",
    "    for x in range(len(bil)-1,0,-1):\n",
    "        max=0\n",
    "        for y in range (1,x+1):\n",
    "            if bil[y]>bil[max]:\n",
    "                max = y\n",
    "                \n",
    "            temp = bil[x]\n",
    "            bil[x]= bil[max]\n",
    "            bil[max]= temp\n",
    "            \n",
    "            \n",
    "def arraydescending(bil):\n",
    "    for a in range(len(bil)):\n",
    "        for b in range (len(bil)):\n",
    "            if (bil[b] < bil[a]):\n",
    "                temp = bil[a]\n",
    "                bil[a]= bil[b]\n",
    "                bil[b]= temp\n",
    "            \n",
    "            \n",
    "bil = [-5,-4,3,7,8,6,-2,1,9,-11,-10]           \n",
    "InsertionShort(bil)\n",
    "print('secara ascending : ', bil)\n",
    "arraydescending(bil)\n",
    "print('secara descending : ', bil)"
   ]
  },
  {
   "cell_type": "code",
   "execution_count": 15,
   "id": "d7643f42",
   "metadata": {},
   "outputs": [
    {
     "name": "stdout",
     "output_type": "stream",
     "text": [
      "Nilai matkul 1:4\n",
      "Jumlah jam matkul 1:2\n",
      "Nilai matkul 2:2.5\n",
      "Jumlah jam matkul 2:2\n",
      "Nilai matkul 3:3\n",
      "Jumlah jam matkul 3:3\n",
      "Nilai matkul 4:3.5\n",
      "Jumlah jam matkul 4:3\n",
      "Nilai matkul 5:2\n",
      "Jumlah jam matkul 5:3\n",
      "Indeks prestasi semester : 2.9615384615384617\n"
     ]
    }
   ],
   "source": [
    "def function():\n",
    "    jumlah_nilai = 0\n",
    "    total_jam = 0\n",
    "    total = 6\n",
    "    \n",
    "    for x in range(1, total):\n",
    "        nilai_matakuliah = eval(input(\"Nilai matkul \" + str(x) + \":\"))\n",
    "        jam_matakuliah = eval(input(\"Jumlah jam matkul \" + str(x) + \":\"))\n",
    "        jumlah_nilai += nilai_matakuliah * jam_matakuliah\n",
    "        total_jam += jam_matakuliah\n",
    "        \n",
    "    print(\"Indeks prestasi semester :\", jumlah_nilai/total_jam)\n",
    "function()"
   ]
  },
  {
   "cell_type": "code",
   "execution_count": 14,
   "id": "66ea9d77",
   "metadata": {},
   "outputs": [
    {
     "name": "stdout",
     "output_type": "stream",
     "text": [
      "******  \n",
      "*    *  \n",
      "*    *  \n",
      "******* \n",
      "*     * \n",
      "*     * \n",
      "******* \n",
      "        \n"
     ]
    }
   ],
   "source": [
    "## matriks huruf B ukuran 8*8\n",
    "huruf_B = [[1, 1, 1, 1, 1, 1, 0, 0],\n",
    "           [1, 0, 0, 0, 0, 1, 0, 0],\n",
    "           [1, 0, 0, 0, 0, 1, 0, 0],\n",
    "           [1, 1, 1, 1, 1, 1, 1, 0],\n",
    "           [1, 0, 0, 0, 0, 0, 1, 0],\n",
    "           [1, 0, 0, 0, 0, 0, 1, 0],\n",
    "           [1, 1, 1, 1, 1, 1, 1, 0],\n",
    "           [0, 0, 0, 0, 0, 0, 0, 0]]\n",
    "\n",
    "for x in range(0, len(huruf_B)):\n",
    "    for y in range(0, len(huruf_B)):\n",
    "        if(huruf_B[x][y] !=0):\n",
    "            print('*',end='')\n",
    "        else:\n",
    "            print (' ', end='')\n",
    "    print('\\n',end='')"
   ]
  },
  {
   "cell_type": "code",
   "execution_count": 15,
   "id": "b7bce30e-ad48-4c3d-9a6d-cb9ddbfc518e",
   "metadata": {},
   "outputs": [
    {
     "name": "stdout",
     "output_type": "stream",
     "text": [
      "Input banyak row\n"
     ]
    },
    {
     "name": "stdin",
     "output_type": "stream",
     "text": [
      " 2\n"
     ]
    },
    {
     "name": "stdout",
     "output_type": "stream",
     "text": [
      "Input banyaknya subrow tiap Row \n"
     ]
    },
    {
     "name": "stdin",
     "output_type": "stream",
     "text": [
      " 2\n"
     ]
    },
    {
     "name": "stdout",
     "output_type": "stream",
     "text": [
      "Masukkan elemen setiap subrow\n"
     ]
    },
    {
     "name": "stdin",
     "output_type": "stream",
     "text": [
      " 111\n",
      " 222\n"
     ]
    },
    {
     "name": "stdout",
     "output_type": "stream",
     "text": [
      "Masukkan elemen setiap subrow\n"
     ]
    },
    {
     "name": "stdin",
     "output_type": "stream",
     "text": [
      " 444\n",
      " 555\n"
     ]
    },
    {
     "name": "stdout",
     "output_type": "stream",
     "text": [
      "Hasil array berdimensi 3\n",
      "[[[111], [222]], [[444], [555]]]\n"
     ]
    }
   ],
   "source": [
    "## array dinamis berdimensi 3\n",
    "hasil_array = []\n",
    "\n",
    "print(\"Input banyak row\")\n",
    "rows = int(input())\n",
    "\n",
    "print(\"Input banyaknya subrow tiap Row \")\n",
    "subrows = int(input())\n",
    "for x in range(rows):\n",
    "    print(\"Masukkan elemen setiap subrow\")\n",
    "    hasil_array.append([])\n",
    "    for y in range(subrows):\n",
    "        hasil_array[x].append([int(i) for i in input().split()])\n",
    "        \n",
    "print(\"Hasil array berdimensi 3\")\n",
    "print(hasil_array)"
   ]
  },
  {
   "cell_type": "code",
   "execution_count": null,
   "id": "86255030-85ad-4ea4-a7d2-c82270dac682",
   "metadata": {},
   "outputs": [],
   "source": []
  }
 ],
 "metadata": {
  "kernelspec": {
   "display_name": "Python 3 (ipykernel)",
   "language": "python",
   "name": "python3"
  },
  "language_info": {
   "codemirror_mode": {
    "name": "ipython",
    "version": 3
   },
   "file_extension": ".py",
   "mimetype": "text/x-python",
   "name": "python",
   "nbconvert_exporter": "python",
   "pygments_lexer": "ipython3",
   "version": "3.9.13"
  }
 },
 "nbformat": 4,
 "nbformat_minor": 5
}
