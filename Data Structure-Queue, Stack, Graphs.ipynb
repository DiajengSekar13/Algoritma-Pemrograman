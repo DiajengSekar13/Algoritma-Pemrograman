{
 "cells": [
  {
   "cell_type": "markdown",
   "id": "61cdabbe",
   "metadata": {},
   "source": [
    "## Data Structure-Queue, Stack, Graphs"
   ]
  },
  {
   "cell_type": "markdown",
   "id": "81b62252",
   "metadata": {},
   "source": [
    "> Nama : Diajeng Sekar Prameswari / 22083010003 / B\n"
   ]
  },
  {
   "cell_type": "markdown",
   "id": "899eba48",
   "metadata": {},
   "source": [
    "#### 1. Defending a Stack class"
   ]
  },
  {
   "cell_type": "markdown",
   "id": "7baebef2",
   "metadata": {},
   "source": [
    "- __init__(self): Constructor untuk membuat objek Stack dengan membuat atribut self._list sebagai list kosong.\n",
    "- push(self, element): Metode ini digunakan untuk menambahkan elemen baru ke dalam stack. Elemen tersebut ditambahkan pada akhir list self._list.\n",
    "- pop(self): Metode ini digunakan untuk menghapus dan mengembalikan elemen teratas dari stack. Elemen tersebut dihapus dari akhir list self._list dengan menggunakan method pop().\n",
    "- peek(self): Metode ini digunakan untuk mengembalikan nilai dari elemen teratas pada stack tanpa menghapusnya dari stack. Elemen tersebut diakses menggunakan indexing dengan -1.\n",
    "- size(self): Metode ini digunakan untuk mengembalikan jumlah elemen dalam stack.\n",
    "- is_empty(self): Metode ini digunakan untuk mengecek apakah stack kosong atau tidak. Jika jumlah elemen dalam stack adalah 0, maka metode ini akan mengembalikan True."
   ]
  },
  {
   "cell_type": "code",
   "execution_count": 3,
   "id": "976ae4ef",
   "metadata": {},
   "outputs": [],
   "source": [
    "class Stack:\n",
    "    def __init__(self):\n",
    "        self._list = [] \n",
    "    def push(self, element):\n",
    "        self._list.append(element)\n",
    "    def pop(self):\n",
    "        return self._list.pop()\n",
    "    def peek(self):\n",
    "        return self._list[-1]\n",
    "    def size(self):\n",
    "        return len(self._list)\n",
    "    def is_empty(self):\n",
    "        return self.size() == 0"
   ]
  },
  {
   "cell_type": "code",
   "execution_count": 4,
   "id": "62274267",
   "metadata": {},
   "outputs": [
    {
     "name": "stdout",
     "output_type": "stream",
     "text": [
      "stack size : 3\n",
      "top element : task3\n",
      "popped : task3\n",
      "stack size : 2\n"
     ]
    }
   ],
   "source": [
    "stack = Stack()\n",
    "stack.push('task1')\n",
    "stack.push('task2')\n",
    "stack.push('task3')\n",
    "print('stack size :', stack.size())\n",
    "print('top element :', stack.peek())\n",
    "pop = stack.pop()\n",
    "print('popped :', pop)\n",
    "print('stack size :', stack.size())"
   ]
  },
  {
   "cell_type": "markdown",
   "id": "b73b49e6",
   "metadata": {},
   "source": [
    "1. objek Stack dibuat menggunakan constructor __init__(). Kemudian, tiga elemen baru ditambahkan ke dalam stack menggunakan metode push().\n",
    "2. untuk menghitung ukuran stack menggunakan method size() dan elemen teratas pada stack diakses menggunakan metode peek() yang mengembalikan nilai dari elemen teratas pada stack tanpa menghapusnya dari stack.\n",
    "3. elemen teratas pada stack dihapus dan diambil nilainya menggunakan metode pop(). Elemen yang dihapus adalah 'task3', karena elemen yang terakhir ditambahkan selalu menjadi elemen teratas pada stack. Nilai dari elemen yang dihapus kemudian disimpan dalam variabel pop.\n",
    "4. ukuran stack dihitung kembali menggunakan metode size(). Hasil dari setiap operasi kemudian dicetak ke layar menggunakan print()."
   ]
  },
  {
   "cell_type": "markdown",
   "id": "8cf4c0a6",
   "metadata": {},
   "source": [
    "#### 2. Mencari nama berakhiran ‘y’ dimulai dari simpul “you” menggunakan konsep Stack (LIFO) "
   ]
  },
  {
   "cell_type": "markdown",
   "id": "5ef47351",
   "metadata": {},
   "source": [
    "- pertama tambahkan nama dan hubungan yang terhubung satu sama lain.\n",
    "- lalu import deque\n",
    "- mententukan nama yang dicari melalui parameter fungsi search(name). Kemudian, buat stack kosong dan menambahkan nama tersebut ke dalam stack.\n",
    "- lalu buat list kosong untuk menyimpan nama yang telah diperiksa, agar tidak memeriksa nama yang sama berulang-ulang. Dalam tiap literasi akan mengeluarkan nama teratas dari stack menggunakan metode pop(). \n",
    "- periksa nama apakah berakhiran 'y' jika benar maka cetak is a mango seller! dan return true, jika tidak maka tambaah nama dalam stack dan menambahkan ke daftar yang sudah diperiksa.\n",
    "- jika tidak ada nama dalam stack lagi, return False karena is a mango seller tidak ditemukan dalam graph.\n",
    "- terakhir panggil fungsi search('you') untuk mencetak output yang dihasilkan."
   ]
  },
  {
   "cell_type": "code",
   "execution_count": 5,
   "id": "454c5258",
   "metadata": {},
   "outputs": [],
   "source": [
    "graph = {}\n",
    "graph['you'] = ['alice', 'bob', 'claire']\n",
    "graph['bob'] = ['anuj', 'peggy']\n",
    "graph['alice'] = ['peggy']\n",
    "graph['claire'] = ['thom', 'jonny']\n",
    "graph['anuj'] = []\n",
    "graph['peggy'] = []\n",
    "graph['thom'] = []\n",
    "graph['jonny'] = []\n",
    "\n",
    "from collections import deque\n",
    "\n",
    "def person_is_seller(name):\n",
    "    return name[-1] == 'y'\n",
    "\n",
    "def search(name):\n",
    "    stack = deque()\n",
    "    stack += graph[name]\n",
    "    print(stack)\n",
    "    searched = []\n",
    "    \n",
    "    while stack:\n",
    "        person = stack.pop() \n",
    "   \n",
    "        if person not in searched: \n",
    "            print(\"person was checked\", person)\n",
    "            if person_is_seller(person):\n",
    "                print (person+ ' is a mango seller!')\n",
    "                return True\n",
    "            else:\n",
    "                stack.extend(graph[person])\n",
    "                searched.append(person)\n",
    "                print('2nd degree', stack)\n",
    "        else:\n",
    "            print(\"person was already checked\", person)\n",
    "                                \n",
    "    return False"
   ]
  },
  {
   "cell_type": "code",
   "execution_count": 6,
   "id": "00a31279",
   "metadata": {
    "scrolled": true
   },
   "outputs": [
    {
     "name": "stdout",
     "output_type": "stream",
     "text": [
      "deque(['alice', 'bob', 'claire'])\n",
      "person was checked claire\n",
      "2nd degree deque(['alice', 'bob', 'thom', 'jonny'])\n",
      "person was checked jonny\n",
      "jonny is a mango seller!\n"
     ]
    },
    {
     "data": {
      "text/plain": [
       "True"
      ]
     },
     "execution_count": 6,
     "metadata": {},
     "output_type": "execute_result"
    }
   ],
   "source": [
    "search('you')"
   ]
  },
  {
   "cell_type": "markdown",
   "id": "885c1efc",
   "metadata": {},
   "source": [
    "#### 3.  Mencari jalur pertemanan dimulai dari simpul “you” menggunakan Breadth-First Search"
   ]
  },
  {
   "cell_type": "code",
   "execution_count": 7,
   "id": "34893339",
   "metadata": {},
   "outputs": [],
   "source": [
    "graph = {}\n",
    "graph['you'] = ['alice', 'bob', 'claire']\n",
    "graph['alice'] = ['peggy']\n",
    "graph['bob'] = ['anuj', 'peggy']\n",
    "graph['claire'] = ['thom', 'jonny']\n",
    "graph['peggy'] = []\n",
    "graph['anuj'] = []\n",
    "graph['thom'] = []\n",
    "graph['jonny'] = []\n",
    "\n",
    "from collections import deque\n",
    "\n",
    "def bfs(graph, start):\n",
    "    queue = deque()\n",
    "    queue.append(start)\n",
    "\n",
    "    visited = set()\n",
    "    visited.add(start)\n",
    "    print(\"queue\", list(queue))\n",
    "    print(\"visited\", list(visited))\n",
    "    \n",
    "    while queue:\n",
    "        node = queue.popleft()\n",
    "        neighbors = graph[node]\n",
    "        \n",
    "        for neighbor in graph[node]:\n",
    "            if neighbor not in visited:\n",
    "                queue.append(neighbor)\n",
    "                visited.add(neighbor)\n",
    "                \n",
    "        print(\"queue\", list(queue))\n",
    "        print(\"visited\", list(visited))"
   ]
  },
  {
   "cell_type": "code",
   "execution_count": 8,
   "id": "fd04519f",
   "metadata": {},
   "outputs": [
    {
     "name": "stdout",
     "output_type": "stream",
     "text": [
      "queue ['you']\n",
      "visited ['you']\n",
      "queue ['alice', 'bob', 'claire']\n",
      "visited ['alice', 'bob', 'you', 'claire']\n",
      "queue ['bob', 'claire', 'peggy']\n",
      "visited ['bob', 'claire', 'peggy', 'alice', 'you']\n",
      "queue ['claire', 'peggy', 'anuj']\n",
      "visited ['bob', 'claire', 'peggy', 'anuj', 'alice', 'you']\n",
      "queue ['peggy', 'anuj', 'thom', 'jonny']\n",
      "visited ['bob', 'claire', 'peggy', 'anuj', 'alice', 'jonny', 'you', 'thom']\n",
      "queue ['anuj', 'thom', 'jonny']\n",
      "visited ['bob', 'claire', 'peggy', 'anuj', 'alice', 'jonny', 'you', 'thom']\n",
      "queue ['thom', 'jonny']\n",
      "visited ['bob', 'claire', 'peggy', 'anuj', 'alice', 'jonny', 'you', 'thom']\n",
      "queue ['jonny']\n",
      "visited ['bob', 'claire', 'peggy', 'anuj', 'alice', 'jonny', 'you', 'thom']\n",
      "queue []\n",
      "visited ['bob', 'claire', 'peggy', 'anuj', 'alice', 'jonny', 'you', 'thom']\n"
     ]
    }
   ],
   "source": [
    "bfs(graph, 'you')"
   ]
  },
  {
   "cell_type": "markdown",
   "id": "9f18bbe0",
   "metadata": {},
   "source": [
    "1. buat kode untuk merepresentasi sebuah graph.\n",
    "2. Pada baris-baris selanjutnya, kode menambahkan elemen ke dalam dictionary contoh, graph['you'] = ['alice', 'bob', 'claire'] menambahkan node 'you' beserta tiga edges yang menghubungkannya dengan node 'alice', 'bob', dan 'claire' ke dalam graph.\n",
    "3. Setelah graph terbentuk, kode mengimport deque dari modul collections untuk membuat antrian yang akan digunakan pada algoritma bfs.\n",
    "4. Kemudian, fungsi bfs() didefinisikan dengan menerima dua argumen: graph dan start (nama node untuk memulai bfs).\n",
    "5. Pada baris berikutnya, antrian (queue) dibuat dan elemen start ditambahkan ke dalamnya.\n",
    "6. Variabel visited dibuat sebagai sebuah set kosong dan elemen start ditambahkan ke dalam set tersebut, yang berarti node tersebut telah dikunjungi.\n",
    "7. Pada baris selanjutnya, print() digunakan untuk menampilkan isi antrian dan set visited pada awal perulangan while.\n",
    "8. Kemudian, kode memasuki perulangan while dengan syarat queue tidak kosong.\n",
    "9. Elemen pertama dalam antrian diambil (dengan popleft()) dan disimpan ke dalam variabel node. Variabel neighbors diisi dengan nilai edges dari node dalam graph.\n",
    "10. Pada setiap neighbor dalam neighbors, memeriksa neighbor belum dikunjungi dengan menggunakan not in pada kondisi if. Jika neighbor belum dikunjungi, maka neighbor ditambahkan ke dalam antrian dan set visited.\n",
    "11. Kemudian, isi dari antrian dan set visited ditampilkan melalui print().\n",
    "12. Proses terus diulang sampai antrian kosong dan proses BFS selesai."
   ]
  }
 ],
 "metadata": {
  "kernelspec": {
   "display_name": "Python 3 (ipykernel)",
   "language": "python",
   "name": "python3"
  },
  "language_info": {
   "codemirror_mode": {
    "name": "ipython",
    "version": 3
   },
   "file_extension": ".py",
   "mimetype": "text/x-python",
   "name": "python",
   "nbconvert_exporter": "python",
   "pygments_lexer": "ipython3",
   "version": "3.9.13"
  }
 },
 "nbformat": 4,
 "nbformat_minor": 5
}
